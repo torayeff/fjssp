{
 "cells": [
  {
   "cell_type": "code",
   "execution_count": 1,
   "id": "be483f68",
   "metadata": {
    "ExecuteTime": {
     "end_time": "2022-08-30T14:54:53.984697Z",
     "start_time": "2022-08-30T14:54:53.611467Z"
    }
   },
   "outputs": [
    {
     "data": {
      "application/javascript": [
       "\n",
       "            setTimeout(function() {\n",
       "                var nbb_cell_id = 1;\n",
       "                var nbb_unformatted_code = \"%load_ext nb_black\\n%load_ext autoreload\\n%autoreload 2\";\n",
       "                var nbb_formatted_code = \"%load_ext nb_black\\n%load_ext autoreload\\n%autoreload 2\";\n",
       "                var nbb_cells = Jupyter.notebook.get_cells();\n",
       "                for (var i = 0; i < nbb_cells.length; ++i) {\n",
       "                    if (nbb_cells[i].input_prompt_number == nbb_cell_id) {\n",
       "                        if (nbb_cells[i].get_text() == nbb_unformatted_code) {\n",
       "                             nbb_cells[i].set_text(nbb_formatted_code);\n",
       "                        }\n",
       "                        break;\n",
       "                    }\n",
       "                }\n",
       "            }, 500);\n",
       "            "
      ],
      "text/plain": [
       "<IPython.core.display.Javascript object>"
      ]
     },
     "metadata": {},
     "output_type": "display_data"
    }
   ],
   "source": [
    "%load_ext nb_black\n",
    "%load_ext autoreload\n",
    "%autoreload 2"
   ]
  },
  {
   "cell_type": "code",
   "execution_count": 2,
   "id": "6df59f0e",
   "metadata": {
    "ExecuteTime": {
     "end_time": "2022-08-30T14:54:54.599099Z",
     "start_time": "2022-08-30T14:54:53.989588Z"
    }
   },
   "outputs": [
    {
     "data": {
      "application/javascript": [
       "\n",
       "            setTimeout(function() {\n",
       "                var nbb_cell_id = 2;\n",
       "                var nbb_unformatted_code = \"import fjssp\\nfrom fjssp.agents import SimpleAgent\\nimport gym\";\n",
       "                var nbb_formatted_code = \"import fjssp\\nfrom fjssp.agents import SimpleAgent\\nimport gym\";\n",
       "                var nbb_cells = Jupyter.notebook.get_cells();\n",
       "                for (var i = 0; i < nbb_cells.length; ++i) {\n",
       "                    if (nbb_cells[i].input_prompt_number == nbb_cell_id) {\n",
       "                        if (nbb_cells[i].get_text() == nbb_unformatted_code) {\n",
       "                             nbb_cells[i].set_text(nbb_formatted_code);\n",
       "                        }\n",
       "                        break;\n",
       "                    }\n",
       "                }\n",
       "            }, 500);\n",
       "            "
      ],
      "text/plain": [
       "<IPython.core.display.Javascript object>"
      ]
     },
     "metadata": {},
     "output_type": "display_data"
    }
   ],
   "source": [
    "import fjssp\n",
    "from fjssp.agents import SimpleAgent\n",
    "import gym"
   ]
  },
  {
   "cell_type": "code",
   "execution_count": 3,
   "id": "507775ef",
   "metadata": {
    "ExecuteTime": {
     "end_time": "2022-08-30T14:54:54.830843Z",
     "start_time": "2022-08-30T14:54:54.601099Z"
    }
   },
   "outputs": [
    {
     "name": "stdout",
     "output_type": "stream",
     "text": [
      "204\n",
      "Total time: 54, rewards: -54\n",
      "{'current_time': 54, 'info_message': 'All tasks are finished!', 'upper_bound': 107.0}\n"
     ]
    },
    {
     "name": "stderr",
     "output_type": "stream",
     "text": [
      "C:\\Users\\ezzat2\\Anaconda3\\lib\\site-packages\\gym\\core.py:317: DeprecationWarning: \u001b[33mWARN: Initializing wrapper in old step API which returns one bool instead of two. It is recommended to set `new_step_api=True` to use new step API. This will be the default behaviour in future.\u001b[0m\n",
      "  deprecation(\n",
      "C:\\Users\\ezzat2\\Anaconda3\\lib\\site-packages\\gym\\wrappers\\step_api_compatibility.py:39: DeprecationWarning: \u001b[33mWARN: Initializing environment in old step API which returns one bool instead of two. It is recommended to set `new_step_api=True` to use new step API. This will be the default behaviour in future.\u001b[0m\n",
      "  deprecation(\n",
      "C:\\Users\\ezzat2\\Anaconda3\\lib\\site-packages\\gym\\utils\\passive_env_checker.py:227: DeprecationWarning: \u001b[33mWARN: Core environment is written in old step API which returns one bool instead of two. It is recommended to rewrite the environment with new step API. \u001b[0m\n",
      "  logger.deprecation(\n"
     ]
    },
    {
     "data": {
      "application/javascript": [
       "\n",
       "            setTimeout(function() {\n",
       "                var nbb_cell_id = 3;\n",
       "                var nbb_unformatted_code = \"env = gym.make(\\n    \\\"FJSSP-v0\\\",\\n    new_step_api=False,\\n    data_path=None,\\n    num_jobs=5,\\n    num_machines=3,\\n    max_ops=5,\\n    max_time_per_operation=10,\\n)\\nagent = SimpleAgent()\\n\\nobs, info = env.reset(return_info=True, seed=42)\\nprint(obs.sum())\\ndone = False\\nwhile not done:\\n    action = agent.act(obs)\\n    obs, reward, done, info = env.step(action)\\n    agent.rewards += reward\\n\\n\\nprint(f\\\"Total time: {env.total_time}, rewards: {agent.rewards}\\\")\\nprint(info)\";\n",
       "                var nbb_formatted_code = \"env = gym.make(\\n    \\\"FJSSP-v0\\\",\\n    new_step_api=False,\\n    data_path=None,\\n    num_jobs=5,\\n    num_machines=3,\\n    max_ops=5,\\n    max_time_per_operation=10,\\n)\\nagent = SimpleAgent()\\n\\nobs, info = env.reset(return_info=True, seed=42)\\nprint(obs.sum())\\ndone = False\\nwhile not done:\\n    action = agent.act(obs)\\n    obs, reward, done, info = env.step(action)\\n    agent.rewards += reward\\n\\n\\nprint(f\\\"Total time: {env.total_time}, rewards: {agent.rewards}\\\")\\nprint(info)\";\n",
       "                var nbb_cells = Jupyter.notebook.get_cells();\n",
       "                for (var i = 0; i < nbb_cells.length; ++i) {\n",
       "                    if (nbb_cells[i].input_prompt_number == nbb_cell_id) {\n",
       "                        if (nbb_cells[i].get_text() == nbb_unformatted_code) {\n",
       "                             nbb_cells[i].set_text(nbb_formatted_code);\n",
       "                        }\n",
       "                        break;\n",
       "                    }\n",
       "                }\n",
       "            }, 500);\n",
       "            "
      ],
      "text/plain": [
       "<IPython.core.display.Javascript object>"
      ]
     },
     "metadata": {},
     "output_type": "display_data"
    }
   ],
   "source": [
    "env = gym.make(\n",
    "    \"FJSSP-v0\",\n",
    "    new_step_api=False,\n",
    "    data_path=None,\n",
    "    num_jobs=5,\n",
    "    num_machines=3,\n",
    "    max_ops=5,\n",
    "    max_time_per_operation=10,\n",
    ")\n",
    "agent = SimpleAgent()\n",
    "\n",
    "obs, info = env.reset(return_info=True, seed=42)\n",
    "print(obs.sum())\n",
    "done = False\n",
    "while not done:\n",
    "    action = agent.act(obs)\n",
    "    obs, reward, done, info = env.step(action)\n",
    "    agent.rewards += reward\n",
    "\n",
    "\n",
    "print(f\"Total time: {env.total_time}, rewards: {agent.rewards}\")\n",
    "print(info)"
   ]
  },
  {
   "cell_type": "code",
   "execution_count": null,
   "id": "35bc0bdc",
   "metadata": {},
   "outputs": [],
   "source": []
  }
 ],
 "metadata": {
  "kernelspec": {
   "display_name": "Python 3 (ipykernel)",
   "language": "python",
   "name": "python3"
  },
  "language_info": {
   "codemirror_mode": {
    "name": "ipython",
    "version": 3
   },
   "file_extension": ".py",
   "mimetype": "text/x-python",
   "name": "python",
   "nbconvert_exporter": "python",
   "pygments_lexer": "ipython3",
   "version": "3.9.12"
  }
 },
 "nbformat": 4,
 "nbformat_minor": 5
}
